{
 "cells": [
  {
   "cell_type": "markdown",
   "id": "dafc7c3a6afc0473",
   "metadata": {},
   "source": [
    "# Importing the Packages"
   ]
  },
  {
   "cell_type": "code",
   "id": "918e2bfce3e100e",
   "metadata": {
    "ExecuteTime": {
     "end_time": "2025-04-02T20:15:44.836173Z",
     "start_time": "2025-04-02T20:15:44.831677Z"
    }
   },
   "source": [
    "import numpy as np\n",
    "import matplotlib.pyplot as plt\n",
    "import torch\n",
    "import torch.nn as nn\n",
    "import torch.nn.functional as F\n",
    "from torch.utils.data import Dataset, ConcatDataset, DataLoader\n",
    "import glob\n",
    "from sklearn.metrics import confusion_matrix, accuracy_score\n",
    "from sklearn.model_selection import train_test_split\n",
    "import cv2\n",
    "import random\n",
    "import sys\n",
    "import torchvision.transforms as transforms\n",
    "from torchvision import datasets"
   ],
   "outputs": [],
   "execution_count": 19
  },
  {
   "cell_type": "markdown",
   "id": "cc49e0e77de00235",
   "metadata": {},
   "source": "# Reading the images"
  },
  {
   "cell_type": "code",
   "id": "6bfd060ad1e2dc7a",
   "metadata": {
    "scrolled": true,
    "ExecuteTime": {
     "end_time": "2025-04-02T20:15:49.766729Z",
     "start_time": "2025-04-02T20:15:47.281615Z"
    }
   },
   "source": [
    "tumor = []\n",
    "path = './Dataset/yes/*.jpg'\n",
    "for f in glob.iglob(path):\n",
    "    img = cv2.imread(f)\n",
    "    img = cv2.resize(img, (128,128))\n",
    "    b, g, r = cv2.split(img)\n",
    "    img = cv2.merge([r, g, b])\n",
    "    img = img.reshape((img.shape[2],img.shape[0],img.shape[1]))\n",
    "    tumor.append(img)"
   ],
   "outputs": [],
   "execution_count": 20
  },
  {
   "cell_type": "code",
   "id": "b0f350cb4d2e918",
   "metadata": {
    "ExecuteTime": {
     "end_time": "2025-04-02T20:15:49.772728Z",
     "start_time": "2025-04-02T20:15:49.768734Z"
    }
   },
   "source": [
    "len(tumor)"
   ],
   "outputs": [
    {
     "data": {
      "text/plain": [
       "1500"
      ]
     },
     "execution_count": 21,
     "metadata": {},
     "output_type": "execute_result"
    }
   ],
   "execution_count": 21
  },
  {
   "cell_type": "code",
   "id": "de83a9cc8f828ad3",
   "metadata": {
    "ExecuteTime": {
     "end_time": "2025-04-02T20:15:51.722667Z",
     "start_time": "2025-04-02T20:15:49.773735Z"
    }
   },
   "source": [
    "healthy = []\n",
    "path = './Dataset/no/*.jpg'\n",
    "for f in glob.iglob(path):\n",
    "    img = cv2.imread(f)\n",
    "    img = cv2.resize(img, (128,128))\n",
    "    b, g, r = cv2.split(img)\n",
    "    img = cv2.merge([r, g, b])\n",
    "    img = img.reshape((img.shape[2],img.shape[0],img.shape[1]))\n",
    "    healthy.append(img)"
   ],
   "outputs": [],
   "execution_count": 22
  },
  {
   "cell_type": "code",
   "id": "c3e0b9f6-0815-4a06-acde-b50a7d0e474f",
   "metadata": {
    "ExecuteTime": {
     "end_time": "2025-04-02T20:15:51.731027Z",
     "start_time": "2025-04-02T20:15:51.724674Z"
    }
   },
   "source": [
    "len(healthy)"
   ],
   "outputs": [
    {
     "data": {
      "text/plain": [
       "1500"
      ]
     },
     "execution_count": 23,
     "metadata": {},
     "output_type": "execute_result"
    }
   ],
   "execution_count": 23
  },
  {
   "cell_type": "code",
   "id": "67917b58-dc64-4e8d-a5db-640ce6dbb607",
   "metadata": {
    "ExecuteTime": {
     "end_time": "2025-04-02T20:15:52.267064Z",
     "start_time": "2025-04-02T20:15:51.732040Z"
    }
   },
   "source": [
    "tumor = np.array(tumor, dtype=np.float32)\n",
    "healthy = np.array(healthy, dtype=np.float32)\n",
    "tumor_label = np.ones(tumor.shape[0], dtype=np.float32)\n",
    "healthy_label = np.zeros(healthy.shape[0], dtype=np.float32)"
   ],
   "outputs": [],
   "execution_count": 24
  },
  {
   "cell_type": "code",
   "id": "ed4ef08f-3d31-4c3a-825c-097350608c0e",
   "metadata": {
    "ExecuteTime": {
     "end_time": "2025-04-02T20:15:52.273566Z",
     "start_time": "2025-04-02T20:15:52.268068Z"
    }
   },
   "source": [
    "tumor.shape"
   ],
   "outputs": [
    {
     "data": {
      "text/plain": [
       "(1500, 3, 128, 128)"
      ]
     },
     "execution_count": 25,
     "metadata": {},
     "output_type": "execute_result"
    }
   ],
   "execution_count": 25
  },
  {
   "cell_type": "code",
   "id": "682fc88e-b8c3-4168-ac8c-82c85d0d75fc",
   "metadata": {
    "ExecuteTime": {
     "end_time": "2025-04-02T20:15:52.279361Z",
     "start_time": "2025-04-02T20:15:52.274572Z"
    }
   },
   "source": [
    "healthy.shape"
   ],
   "outputs": [
    {
     "data": {
      "text/plain": [
       "(1500, 3, 128, 128)"
      ]
     },
     "execution_count": 26,
     "metadata": {},
     "output_type": "execute_result"
    }
   ],
   "execution_count": 26
  },
  {
   "cell_type": "code",
   "id": "d9e86518-1450-4a87-93a8-96467cb81ee9",
   "metadata": {
    "ExecuteTime": {
     "end_time": "2025-04-02T20:15:52.974859Z",
     "start_time": "2025-04-02T20:15:52.280366Z"
    }
   },
   "source": [
    "images = np.concatenate((healthy, tumor), axis=0)\n",
    "labels = np.concatenate((tumor_label, healthy_label), axis=0)"
   ],
   "outputs": [],
   "execution_count": 27
  },
  {
   "cell_type": "code",
   "id": "9c1e2f90-f16a-4033-9773-219343abb471",
   "metadata": {
    "ExecuteTime": {
     "end_time": "2025-04-02T20:15:52.980488Z",
     "start_time": "2025-04-02T20:15:52.975867Z"
    }
   },
   "source": "images.shape",
   "outputs": [
    {
     "data": {
      "text/plain": [
       "(3000, 3, 128, 128)"
      ]
     },
     "execution_count": 28,
     "metadata": {},
     "output_type": "execute_result"
    }
   ],
   "execution_count": 28
  },
  {
   "metadata": {
    "ExecuteTime": {
     "end_time": "2025-04-02T20:15:54.284442Z",
     "start_time": "2025-04-02T20:15:52.982610Z"
    }
   },
   "cell_type": "code",
   "source": "X_train, X_test, y_train, y_test = train_test_split(images, labels, test_size=0.2, random_state=0, shuffle=True, stratify=labels)",
   "id": "b29b15440603c5ed",
   "outputs": [],
   "execution_count": 29
  },
  {
   "metadata": {},
   "cell_type": "markdown",
   "source": "# Creating Functions for Data Augmentations",
   "id": "abad7e1e67182ff4"
  },
  {
   "metadata": {
    "ExecuteTime": {
     "end_time": "2025-04-02T20:15:54.491907Z",
     "start_time": "2025-04-02T20:15:54.312927Z"
    }
   },
   "cell_type": "code",
   "source": [
    "# Performing Data Augmentation\n",
    "train_transforms = transforms.Compose([\n",
    "    transforms.RandomHorizontalFlip(p=0.5),  # Randomly flip images horizontally\n",
    "    transforms.RandomRotation(degrees=10),  # Rotate up to ±10 degrees\n",
    "    transforms.ColorJitter(brightness=0.2, contrast=0.2),  # Random brightness & contrast shift\n",
    "    transforms.RandomAffine(degrees=10, translate=(0.05, 0.05), scale=(0.9, 1.1)),  # Shift, scale & rotate\n",
    "    transforms.ToTensor(),  # Convert to tensor\n",
    "    transforms.Normalize(mean=[0.5, 0.5, 0.5], std=[0.5, 0.5, 0.5])  # Normalize images\n",
    "])"
   ],
   "id": "8966c9581e846f31",
   "outputs": [],
   "execution_count": 30
  },
  {
   "metadata": {
    "ExecuteTime": {
     "end_time": "2025-04-02T20:15:54.506897Z",
     "start_time": "2025-04-02T20:15:54.497917Z"
    }
   },
   "cell_type": "code",
   "source": [
    "#Test Set (No Augmentation, Only Normalization)\n",
    "val_transforms = transforms.Compose([\n",
    "    transforms.ToTensor(),\n",
    "    transforms.Normalize(mean=[0.5, 0.5, 0.5], std=[0.5, 0.5, 0.5])\n",
    "])"
   ],
   "id": "ec07e33cb7311c1e",
   "outputs": [],
   "execution_count": 31
  },
  {
   "cell_type": "markdown",
   "id": "c90570bf-bc97-4804-9e34-67f37c6ba037",
   "metadata": {},
   "source": [
    "## Creating MRI Custom Dataset Class"
   ]
  },
  {
   "cell_type": "code",
   "id": "70ef69d5-b790-4adf-aeb0-eca28d1ad792",
   "metadata": {
    "ExecuteTime": {
     "end_time": "2025-04-02T20:15:54.522590Z",
     "start_time": "2025-04-02T20:15:54.509997Z"
    }
   },
   "source": [
    "class Dataset(object):\n",
    "    def __getitem__(self, index):\n",
    "        raise NotImplementedError\n",
    "        \n",
    "    def __len__(self):\n",
    "        raise NotImplementedError\n",
    "        \n",
    "    def __add__(self, other):\n",
    "        return ConcatDataset([self, other])"
   ],
   "outputs": [],
   "execution_count": 32
  },
  {
   "cell_type": "code",
   "id": "1937accb-725a-469f-b001-73197a162c50",
   "metadata": {
    "ExecuteTime": {
     "end_time": "2025-04-02T20:15:54.545786Z",
     "start_time": "2025-04-02T20:15:54.523728Z"
    }
   },
   "source": [
    "class MRI(Dataset):\n",
    "    def __init__(self, feature_matrix, target_label_array, mode='train'):\n",
    "        self.images = feature_matrix\n",
    "        self.labels = target_label_array\n",
    "        self.mode = mode  # 'train' or 'val'\n",
    "        self.transform = train_transforms if mode == 'train' else val_transforms\n",
    "\n",
    "    def __len__(self):\n",
    "        return self.images.shape[0]\n",
    "\n",
    "    def __getitem__(self, index: int):\n",
    "        image, label = self.images[index], self.labels[index]\n",
    "    \n",
    "        # Ensure image is a tensor\n",
    "        if isinstance(image, torch.Tensor):\n",
    "            image = image.numpy()\n",
    "    \n",
    "        # Ensure correct shape (C, H, W) → (H, W, C)\n",
    "        image = np.transpose(image, (1, 2, 0))\n",
    "    \n",
    "        # Convert to uint8 (avoid changing shape incorrectly)\n",
    "        image = (image * 255).astype(np.uint8)\n",
    "    \n",
    "        # Convert to PIL Image **individually**\n",
    "        image = transforms.ToPILImage()(image)\n",
    "    \n",
    "        # Apply transformations\n",
    "        image = self.transform(image)\n",
    "    \n",
    "        return {'image': image, 'label': label}\n",
    "\n",
    "\n"
   ],
   "outputs": [],
   "execution_count": 33
  },
  {
   "cell_type": "markdown",
   "id": "c445ed11-673c-488a-81e4-1078dd58431d",
   "metadata": {},
   "source": [
    "# Creating a Dataloader"
   ]
  },
  {
   "metadata": {
    "ExecuteTime": {
     "end_time": "2025-04-02T20:15:55.119101Z",
     "start_time": "2025-04-02T20:15:55.112805Z"
    }
   },
   "cell_type": "code",
   "source": "mri_dataset = MRI(feature_matrix=X_train, target_label_array=y_train, mode='train')",
   "id": "a9bc7472584eacb5",
   "outputs": [],
   "execution_count": 34
  },
  {
   "cell_type": "code",
   "id": "6fc9480b-c095-4875-a78a-e9c88c8e6b57",
   "metadata": {
    "ExecuteTime": {
     "end_time": "2025-04-02T20:15:55.546023Z",
     "start_time": "2025-04-02T20:15:55.491261Z"
    }
   },
   "source": "dataloader = DataLoader(dataset = mri_dataset, batch_size = 10, shuffle = True)",
   "outputs": [],
   "execution_count": 35
  },
  {
   "cell_type": "markdown",
   "id": "29616c8e-00b1-4d99-878b-bd795ff5dc0b",
   "metadata": {},
   "source": [
    "# Creating a model"
   ]
  },
  {
   "metadata": {
    "ExecuteTime": {
     "end_time": "2025-04-02T20:29:41.584574Z",
     "start_time": "2025-04-02T20:29:41.557669Z"
    }
   },
   "cell_type": "code",
   "source": [
    "import torch.nn as nn\n",
    "\n",
    "class BrainTumorCNN(nn.Module):\n",
    "    def __init__(self):\n",
    "        super(BrainTumorCNN, self).__init__()\n",
    "        self.conv1 = nn.Conv2d(3, 32, kernel_size=3, padding=1)\n",
    "        self.conv2 = nn.Conv2d(32, 64, kernel_size=3, padding=1)\n",
    "        self.conv3 = nn.Conv2d(64, 128, kernel_size=3, padding=1)\n",
    "        self.pool = nn.MaxPool2d(2, 2)\n",
    "        self.dropout = nn.Dropout(0.5)  # Drop 50% of neurons\n",
    "        self.fc1 = nn.Linear(128 * 16 * 16, 256)\n",
    "        self.fc2 = nn.Linear(256, 1)\n",
    "        self.sigmoid = nn.Sigmoid()\n",
    "\n",
    "    def forward(self, x):\n",
    "        x = self.pool(torch.relu(self.conv1(x)))\n",
    "        x = self.pool(torch.relu(self.conv2(x)))\n",
    "        x = self.pool(torch.relu(self.conv3(x)))\n",
    "        x = torch.flatten(x, start_dim=1)\n",
    "        x = self.dropout(torch.relu(self.fc1(x)))  # Dropout before FC layer\n",
    "        x = self.fc2(x)\n",
    "        return self.sigmoid(x)\n"
   ],
   "id": "70d1197ceb97f186",
   "outputs": [],
   "execution_count": 47
  },
  {
   "cell_type": "markdown",
   "id": "f6d94517-d59a-46a5-8742-81d928cd1b12",
   "metadata": {},
   "source": "# Training the Model"
  },
  {
   "metadata": {
    "ExecuteTime": {
     "end_time": "2025-04-02T20:29:42.775508Z",
     "start_time": "2025-04-02T20:29:42.760522Z"
    }
   },
   "cell_type": "code",
   "source": [
    "mri_dataset_train = MRI(feature_matrix=X_train, target_label_array=y_train, mode='train')\n",
    "mri_dataset_test = MRI(feature_matrix=X_test, target_label_array=y_test, mode='test')"
   ],
   "id": "ca106c67-0f47-4641-9caf-3ed919da3e4e",
   "outputs": [],
   "execution_count": 48
  },
  {
   "metadata": {
    "ExecuteTime": {
     "end_time": "2025-04-02T20:29:43.145533Z",
     "start_time": "2025-04-02T20:29:43.125652Z"
    }
   },
   "cell_type": "code",
   "source": [
    "train_dataloader = DataLoader(mri_dataset_train, batch_size=32, shuffle=True)\n",
    "val_dataloader = DataLoader(mri_dataset_test, batch_size=32, shuffle=False)"
   ],
   "id": "f2d67a81-3dd9-4b05-baa7-8767b1f636b9",
   "outputs": [],
   "execution_count": 49
  },
  {
   "metadata": {
    "ExecuteTime": {
     "end_time": "2025-04-02T20:29:43.689626Z",
     "start_time": "2025-04-02T20:29:43.536084Z"
    }
   },
   "cell_type": "code",
   "source": [
    "DEVICE = torch.device(\"cuda:0\" if torch.cuda.is_available() else \"cpu\")\n",
    "model = BrainTumorCNN().to(DEVICE)"
   ],
   "id": "a3951b09-b58e-4f33-862a-5599346ea8d1",
   "outputs": [],
   "execution_count": 50
  },
  {
   "metadata": {
    "ExecuteTime": {
     "end_time": "2025-04-02T20:29:43.972479Z",
     "start_time": "2025-04-02T20:29:43.948713Z"
    }
   },
   "cell_type": "code",
   "source": [
    "LEARNING_RATE = 1e-3\n",
    "EPOCH = 300\n",
    "optimizer = torch.optim.Adam(model.parameters(), lr=LEARNING_RATE)\n",
    "dataloader = DataLoader(mri_dataset_train, batch_size=32, shuffle=True)\n",
    "model.train()"
   ],
   "id": "f1a6ee3f-a08a-4932-8194-6bb688dd8a52",
   "outputs": [
    {
     "data": {
      "text/plain": [
       "BrainTumorCNN(\n",
       "  (conv1): Conv2d(3, 32, kernel_size=(3, 3), stride=(1, 1), padding=(1, 1))\n",
       "  (conv2): Conv2d(32, 64, kernel_size=(3, 3), stride=(1, 1), padding=(1, 1))\n",
       "  (conv3): Conv2d(64, 128, kernel_size=(3, 3), stride=(1, 1), padding=(1, 1))\n",
       "  (pool): MaxPool2d(kernel_size=2, stride=2, padding=0, dilation=1, ceil_mode=False)\n",
       "  (dropout): Dropout(p=0.5, inplace=False)\n",
       "  (fc1): Linear(in_features=32768, out_features=256, bias=True)\n",
       "  (fc2): Linear(in_features=256, out_features=1, bias=True)\n",
       "  (sigmoid): Sigmoid()\n",
       ")"
      ]
     },
     "execution_count": 51,
     "metadata": {},
     "output_type": "execute_result"
    }
   ],
   "execution_count": 51
  },
  {
   "metadata": {
    "ExecuteTime": {
     "end_time": "2025-04-02T20:29:44.609612Z",
     "start_time": "2025-04-02T20:29:44.604079Z"
    }
   },
   "cell_type": "code",
   "source": [
    "# keeping track of epoch losses\n",
    "epoch_train_loss = []\n",
    "epoch_test_loss = []\n",
    "accuracy_train_epoch = []\n",
    "accuracy_test_epoch = []"
   ],
   "id": "9a02206f-9476-4961-aba3-7eaa09316599",
   "outputs": [],
   "execution_count": 52
  },
  {
   "metadata": {
    "ExecuteTime": {
     "end_time": "2025-04-02T20:54:36.779740Z",
     "start_time": "2025-04-02T20:29:45.105087Z"
    }
   },
   "cell_type": "code",
   "source": [
    "for epoch in range(EPOCH):\n",
    "    train_losses = []\n",
    "    # train for the current epoch\n",
    "    model.train()\n",
    "    mri_dataset_train.mode = 'train'\n",
    "    for D in train_dataloader:\n",
    "        # Train the model\n",
    "        optimizer.zero_grad()\n",
    "        data = D['image'].to(DEVICE)\n",
    "        label = D['label'].to(DEVICE)\n",
    "        \n",
    "        y_hat = model(data)\n",
    "        y_hat_binary = (y_hat.detach().cpu().numpy() >= 0.5).astype(int)  # threshold at 0.5\n",
    "        \n",
    "        error = nn.BCELoss()\n",
    "        loss = torch.sum(error(y_hat.squeeze(), label))\n",
    "        accuracy_train = accuracy_score(y_pred=y_hat_binary, y_true=label.cpu().numpy()) \n",
    "        loss.backward()\n",
    "        optimizer.step()\n",
    "        train_losses.append(loss.item())\n",
    "    accuracy_train_epoch.append(accuracy_train)\n",
    "    epoch_train_loss.append(np.mean(train_losses))\n",
    "    \n",
    "    # validate for the current epoch\n",
    "    test_losses = []\n",
    "    model.eval()\n",
    "    \n",
    "    mri_dataset_test.mode = 'val'\n",
    "    \n",
    "    with torch.no_grad():\n",
    "        for D in val_dataloader:            \n",
    "            data = D['image'].to(DEVICE)\n",
    "            label = D['label'].to(DEVICE)\n",
    "            \n",
    "            y_hat = model(data)\n",
    "            y_hat_binary = (y_hat.detach().cpu().numpy() >= 0.5).astype(int) \n",
    "            \n",
    "            error = nn.BCELoss()\n",
    "            loss = torch.sum(error(y_hat.squeeze(), label))\n",
    "            test_losses.append(loss.item())\n",
    "            accuracy_test = accuracy_score(y_pred=y_hat_binary, y_true=label.cpu().numpy()) \n",
    "    accuracy_test_epoch.append(accuracy_test)\n",
    "    epoch_test_loss.append(np.mean(test_losses))\n",
    "    \n",
    "    if (epoch+1) % 10 == 0:\n",
    "        print('Train Epoch: {}\\tTrain Loss: {:.6f}\\tVal Loss: {:.6f}'.format(epoch+1, np.mean(train_losses),np.mean(test_losses)))"
   ],
   "id": "20e6dae8-2666-4d0f-bb11-b6b1e18496eb",
   "outputs": [
    {
     "name": "stdout",
     "output_type": "stream",
     "text": [
      "Train Epoch: 10\tTrain Loss: 0.334633\tVal Loss: 0.286838\n",
      "Train Epoch: 20\tTrain Loss: 0.197334\tVal Loss: 0.170583\n",
      "Train Epoch: 30\tTrain Loss: 0.116159\tVal Loss: 0.158768\n",
      "Train Epoch: 40\tTrain Loss: 0.111703\tVal Loss: 0.173329\n",
      "Train Epoch: 50\tTrain Loss: 0.069762\tVal Loss: 0.356668\n",
      "Train Epoch: 60\tTrain Loss: 0.054887\tVal Loss: 0.471003\n",
      "Train Epoch: 70\tTrain Loss: 0.055474\tVal Loss: 0.447538\n",
      "Train Epoch: 80\tTrain Loss: 0.046446\tVal Loss: 0.621376\n",
      "Train Epoch: 90\tTrain Loss: 0.036805\tVal Loss: 0.638224\n",
      "Train Epoch: 100\tTrain Loss: 0.041594\tVal Loss: 0.644786\n",
      "Train Epoch: 110\tTrain Loss: 0.025177\tVal Loss: 0.791067\n",
      "Train Epoch: 120\tTrain Loss: 0.032261\tVal Loss: 0.789120\n",
      "Train Epoch: 130\tTrain Loss: 0.040732\tVal Loss: 0.605380\n",
      "Train Epoch: 140\tTrain Loss: 0.017743\tVal Loss: 0.623032\n",
      "Train Epoch: 150\tTrain Loss: 0.035372\tVal Loss: 0.845206\n",
      "Train Epoch: 160\tTrain Loss: 0.047035\tVal Loss: 0.636156\n",
      "Train Epoch: 170\tTrain Loss: 0.016307\tVal Loss: 0.638064\n",
      "Train Epoch: 180\tTrain Loss: 0.018550\tVal Loss: 0.646808\n",
      "Train Epoch: 190\tTrain Loss: 0.022630\tVal Loss: 0.776073\n",
      "Train Epoch: 200\tTrain Loss: 0.029871\tVal Loss: 0.634225\n",
      "Train Epoch: 210\tTrain Loss: 0.014200\tVal Loss: 0.676318\n",
      "Train Epoch: 220\tTrain Loss: 0.038173\tVal Loss: 0.673060\n"
     ]
    },
    {
     "ename": "KeyboardInterrupt",
     "evalue": "",
     "output_type": "error",
     "traceback": [
      "\u001B[31m---------------------------------------------------------------------------\u001B[39m",
      "\u001B[31mKeyboardInterrupt\u001B[39m                         Traceback (most recent call last)",
      "\u001B[36mCell\u001B[39m\u001B[36m \u001B[39m\u001B[32mIn[53]\u001B[39m\u001B[32m, line 6\u001B[39m\n\u001B[32m      4\u001B[39m model.train()\n\u001B[32m      5\u001B[39m mri_dataset_train.mode = \u001B[33m'\u001B[39m\u001B[33mtrain\u001B[39m\u001B[33m'\u001B[39m\n\u001B[32m----> \u001B[39m\u001B[32m6\u001B[39m \u001B[43m\u001B[49m\u001B[38;5;28;43;01mfor\u001B[39;49;00m\u001B[43m \u001B[49m\u001B[43mD\u001B[49m\u001B[43m \u001B[49m\u001B[38;5;129;43;01min\u001B[39;49;00m\u001B[43m \u001B[49m\u001B[43mtrain_dataloader\u001B[49m\u001B[43m:\u001B[49m\n\u001B[32m      7\u001B[39m \u001B[43m    \u001B[49m\u001B[38;5;66;43;03m# Train the model\u001B[39;49;00m\n\u001B[32m      8\u001B[39m \u001B[43m    \u001B[49m\u001B[43moptimizer\u001B[49m\u001B[43m.\u001B[49m\u001B[43mzero_grad\u001B[49m\u001B[43m(\u001B[49m\u001B[43m)\u001B[49m\n\u001B[32m      9\u001B[39m \u001B[43m    \u001B[49m\u001B[43mdata\u001B[49m\u001B[43m \u001B[49m\u001B[43m=\u001B[49m\u001B[43m \u001B[49m\u001B[43mD\u001B[49m\u001B[43m[\u001B[49m\u001B[33;43m'\u001B[39;49m\u001B[33;43mimage\u001B[39;49m\u001B[33;43m'\u001B[39;49m\u001B[43m]\u001B[49m\u001B[43m.\u001B[49m\u001B[43mto\u001B[49m\u001B[43m(\u001B[49m\u001B[43mDEVICE\u001B[49m\u001B[43m)\u001B[49m\n",
      "\u001B[36mFile \u001B[39m\u001B[32m~\\Desktop\\Code\\Brain Tumor Detection Using CNN 2.0\\brainTumorDetction2.0\\venv\\Lib\\site-packages\\torch\\utils\\data\\dataloader.py:708\u001B[39m, in \u001B[36m_BaseDataLoaderIter.__next__\u001B[39m\u001B[34m(self)\u001B[39m\n\u001B[32m    705\u001B[39m \u001B[38;5;28;01mif\u001B[39;00m \u001B[38;5;28mself\u001B[39m._sampler_iter \u001B[38;5;129;01mis\u001B[39;00m \u001B[38;5;28;01mNone\u001B[39;00m:\n\u001B[32m    706\u001B[39m     \u001B[38;5;66;03m# TODO(https://github.com/pytorch/pytorch/issues/76750)\u001B[39;00m\n\u001B[32m    707\u001B[39m     \u001B[38;5;28mself\u001B[39m._reset()  \u001B[38;5;66;03m# type: ignore[call-arg]\u001B[39;00m\n\u001B[32m--> \u001B[39m\u001B[32m708\u001B[39m data = \u001B[38;5;28;43mself\u001B[39;49m\u001B[43m.\u001B[49m\u001B[43m_next_data\u001B[49m\u001B[43m(\u001B[49m\u001B[43m)\u001B[49m\n\u001B[32m    709\u001B[39m \u001B[38;5;28mself\u001B[39m._num_yielded += \u001B[32m1\u001B[39m\n\u001B[32m    710\u001B[39m \u001B[38;5;28;01mif\u001B[39;00m (\n\u001B[32m    711\u001B[39m     \u001B[38;5;28mself\u001B[39m._dataset_kind == _DatasetKind.Iterable\n\u001B[32m    712\u001B[39m     \u001B[38;5;129;01mand\u001B[39;00m \u001B[38;5;28mself\u001B[39m._IterableDataset_len_called \u001B[38;5;129;01mis\u001B[39;00m \u001B[38;5;129;01mnot\u001B[39;00m \u001B[38;5;28;01mNone\u001B[39;00m\n\u001B[32m    713\u001B[39m     \u001B[38;5;129;01mand\u001B[39;00m \u001B[38;5;28mself\u001B[39m._num_yielded > \u001B[38;5;28mself\u001B[39m._IterableDataset_len_called\n\u001B[32m    714\u001B[39m ):\n",
      "\u001B[36mFile \u001B[39m\u001B[32m~\\Desktop\\Code\\Brain Tumor Detection Using CNN 2.0\\brainTumorDetction2.0\\venv\\Lib\\site-packages\\torch\\utils\\data\\dataloader.py:764\u001B[39m, in \u001B[36m_SingleProcessDataLoaderIter._next_data\u001B[39m\u001B[34m(self)\u001B[39m\n\u001B[32m    762\u001B[39m \u001B[38;5;28;01mdef\u001B[39;00m\u001B[38;5;250m \u001B[39m\u001B[34m_next_data\u001B[39m(\u001B[38;5;28mself\u001B[39m):\n\u001B[32m    763\u001B[39m     index = \u001B[38;5;28mself\u001B[39m._next_index()  \u001B[38;5;66;03m# may raise StopIteration\u001B[39;00m\n\u001B[32m--> \u001B[39m\u001B[32m764\u001B[39m     data = \u001B[38;5;28;43mself\u001B[39;49m\u001B[43m.\u001B[49m\u001B[43m_dataset_fetcher\u001B[49m\u001B[43m.\u001B[49m\u001B[43mfetch\u001B[49m\u001B[43m(\u001B[49m\u001B[43mindex\u001B[49m\u001B[43m)\u001B[49m  \u001B[38;5;66;03m# may raise StopIteration\u001B[39;00m\n\u001B[32m    765\u001B[39m     \u001B[38;5;28;01mif\u001B[39;00m \u001B[38;5;28mself\u001B[39m._pin_memory:\n\u001B[32m    766\u001B[39m         data = _utils.pin_memory.pin_memory(data, \u001B[38;5;28mself\u001B[39m._pin_memory_device)\n",
      "\u001B[36mFile \u001B[39m\u001B[32m~\\Desktop\\Code\\Brain Tumor Detection Using CNN 2.0\\brainTumorDetction2.0\\venv\\Lib\\site-packages\\torch\\utils\\data\\_utils\\fetch.py:55\u001B[39m, in \u001B[36m_MapDatasetFetcher.fetch\u001B[39m\u001B[34m(self, possibly_batched_index)\u001B[39m\n\u001B[32m     53\u001B[39m \u001B[38;5;28;01melse\u001B[39;00m:\n\u001B[32m     54\u001B[39m     data = \u001B[38;5;28mself\u001B[39m.dataset[possibly_batched_index]\n\u001B[32m---> \u001B[39m\u001B[32m55\u001B[39m \u001B[38;5;28;01mreturn\u001B[39;00m \u001B[38;5;28;43mself\u001B[39;49m\u001B[43m.\u001B[49m\u001B[43mcollate_fn\u001B[49m\u001B[43m(\u001B[49m\u001B[43mdata\u001B[49m\u001B[43m)\u001B[49m\n",
      "\u001B[36mFile \u001B[39m\u001B[32m~\\Desktop\\Code\\Brain Tumor Detection Using CNN 2.0\\brainTumorDetction2.0\\venv\\Lib\\site-packages\\torch\\utils\\data\\_utils\\collate.py:398\u001B[39m, in \u001B[36mdefault_collate\u001B[39m\u001B[34m(batch)\u001B[39m\n\u001B[32m    337\u001B[39m \u001B[38;5;28;01mdef\u001B[39;00m\u001B[38;5;250m \u001B[39m\u001B[34mdefault_collate\u001B[39m(batch):\n\u001B[32m    338\u001B[39m \u001B[38;5;250m    \u001B[39m\u001B[33mr\u001B[39m\u001B[33;03m\"\"\"\u001B[39;00m\n\u001B[32m    339\u001B[39m \u001B[33;03m    Take in a batch of data and put the elements within the batch into a tensor with an additional outer dimension - batch size.\u001B[39;00m\n\u001B[32m    340\u001B[39m \n\u001B[32m   (...)\u001B[39m\u001B[32m    396\u001B[39m \u001B[33;03m        >>> default_collate(batch)  # Handle `CustomType` automatically\u001B[39;00m\n\u001B[32m    397\u001B[39m \u001B[33;03m    \"\"\"\u001B[39;00m\n\u001B[32m--> \u001B[39m\u001B[32m398\u001B[39m     \u001B[38;5;28;01mreturn\u001B[39;00m \u001B[43mcollate\u001B[49m\u001B[43m(\u001B[49m\u001B[43mbatch\u001B[49m\u001B[43m,\u001B[49m\u001B[43m \u001B[49m\u001B[43mcollate_fn_map\u001B[49m\u001B[43m=\u001B[49m\u001B[43mdefault_collate_fn_map\u001B[49m\u001B[43m)\u001B[49m\n",
      "\u001B[36mFile \u001B[39m\u001B[32m~\\Desktop\\Code\\Brain Tumor Detection Using CNN 2.0\\brainTumorDetction2.0\\venv\\Lib\\site-packages\\torch\\utils\\data\\_utils\\collate.py:171\u001B[39m, in \u001B[36mcollate\u001B[39m\u001B[34m(batch, collate_fn_map)\u001B[39m\n\u001B[32m    165\u001B[39m \u001B[38;5;28;01mif\u001B[39;00m \u001B[38;5;28misinstance\u001B[39m(elem, collections.abc.MutableMapping):\n\u001B[32m    166\u001B[39m     \u001B[38;5;66;03m# The mapping type may have extra properties, so we can't just\u001B[39;00m\n\u001B[32m    167\u001B[39m     \u001B[38;5;66;03m# use `type(data)(...)` to create the new mapping.\u001B[39;00m\n\u001B[32m    168\u001B[39m     \u001B[38;5;66;03m# Create a clone and update it if the mapping type is mutable.\u001B[39;00m\n\u001B[32m    169\u001B[39m     clone = copy.copy(elem)\n\u001B[32m    170\u001B[39m     clone.update(\n\u001B[32m--> \u001B[39m\u001B[32m171\u001B[39m         \u001B[43m{\u001B[49m\n\u001B[32m    172\u001B[39m \u001B[43m            \u001B[49m\u001B[43mkey\u001B[49m\u001B[43m:\u001B[49m\u001B[43m \u001B[49m\u001B[43mcollate\u001B[49m\u001B[43m(\u001B[49m\n\u001B[32m    173\u001B[39m \u001B[43m                \u001B[49m\u001B[43m[\u001B[49m\u001B[43md\u001B[49m\u001B[43m[\u001B[49m\u001B[43mkey\u001B[49m\u001B[43m]\u001B[49m\u001B[43m \u001B[49m\u001B[38;5;28;43;01mfor\u001B[39;49;00m\u001B[43m \u001B[49m\u001B[43md\u001B[49m\u001B[43m \u001B[49m\u001B[38;5;129;43;01min\u001B[39;49;00m\u001B[43m \u001B[49m\u001B[43mbatch\u001B[49m\u001B[43m]\u001B[49m\u001B[43m,\u001B[49m\u001B[43m \u001B[49m\u001B[43mcollate_fn_map\u001B[49m\u001B[43m=\u001B[49m\u001B[43mcollate_fn_map\u001B[49m\n\u001B[32m    174\u001B[39m \u001B[43m            \u001B[49m\u001B[43m)\u001B[49m\n\u001B[32m    175\u001B[39m \u001B[43m            \u001B[49m\u001B[38;5;28;43;01mfor\u001B[39;49;00m\u001B[43m \u001B[49m\u001B[43mkey\u001B[49m\u001B[43m \u001B[49m\u001B[38;5;129;43;01min\u001B[39;49;00m\u001B[43m \u001B[49m\u001B[43melem\u001B[49m\n\u001B[32m    176\u001B[39m \u001B[43m        \u001B[49m\u001B[43m}\u001B[49m\n\u001B[32m    177\u001B[39m     )\n\u001B[32m    178\u001B[39m     \u001B[38;5;28;01mreturn\u001B[39;00m clone\n\u001B[32m    179\u001B[39m \u001B[38;5;28;01melse\u001B[39;00m:\n",
      "\u001B[36mFile \u001B[39m\u001B[32m~\\Desktop\\Code\\Brain Tumor Detection Using CNN 2.0\\brainTumorDetction2.0\\venv\\Lib\\site-packages\\torch\\utils\\data\\_utils\\collate.py:172\u001B[39m, in \u001B[36m<dictcomp>\u001B[39m\u001B[34m(.0)\u001B[39m\n\u001B[32m    165\u001B[39m \u001B[38;5;28;01mif\u001B[39;00m \u001B[38;5;28misinstance\u001B[39m(elem, collections.abc.MutableMapping):\n\u001B[32m    166\u001B[39m     \u001B[38;5;66;03m# The mapping type may have extra properties, so we can't just\u001B[39;00m\n\u001B[32m    167\u001B[39m     \u001B[38;5;66;03m# use `type(data)(...)` to create the new mapping.\u001B[39;00m\n\u001B[32m    168\u001B[39m     \u001B[38;5;66;03m# Create a clone and update it if the mapping type is mutable.\u001B[39;00m\n\u001B[32m    169\u001B[39m     clone = copy.copy(elem)\n\u001B[32m    170\u001B[39m     clone.update(\n\u001B[32m    171\u001B[39m         {\n\u001B[32m--> \u001B[39m\u001B[32m172\u001B[39m             key: \u001B[43mcollate\u001B[49m\u001B[43m(\u001B[49m\n\u001B[32m    173\u001B[39m \u001B[43m                \u001B[49m\u001B[43m[\u001B[49m\u001B[43md\u001B[49m\u001B[43m[\u001B[49m\u001B[43mkey\u001B[49m\u001B[43m]\u001B[49m\u001B[43m \u001B[49m\u001B[38;5;28;43;01mfor\u001B[39;49;00m\u001B[43m \u001B[49m\u001B[43md\u001B[49m\u001B[43m \u001B[49m\u001B[38;5;129;43;01min\u001B[39;49;00m\u001B[43m \u001B[49m\u001B[43mbatch\u001B[49m\u001B[43m]\u001B[49m\u001B[43m,\u001B[49m\u001B[43m \u001B[49m\u001B[43mcollate_fn_map\u001B[49m\u001B[43m=\u001B[49m\u001B[43mcollate_fn_map\u001B[49m\n\u001B[32m    174\u001B[39m \u001B[43m            \u001B[49m\u001B[43m)\u001B[49m\n\u001B[32m    175\u001B[39m             \u001B[38;5;28;01mfor\u001B[39;00m key \u001B[38;5;129;01min\u001B[39;00m elem\n\u001B[32m    176\u001B[39m         }\n\u001B[32m    177\u001B[39m     )\n\u001B[32m    178\u001B[39m     \u001B[38;5;28;01mreturn\u001B[39;00m clone\n\u001B[32m    179\u001B[39m \u001B[38;5;28;01melse\u001B[39;00m:\n",
      "\u001B[36mFile \u001B[39m\u001B[32m~\\Desktop\\Code\\Brain Tumor Detection Using CNN 2.0\\brainTumorDetction2.0\\venv\\Lib\\site-packages\\torch\\utils\\data\\_utils\\collate.py:155\u001B[39m, in \u001B[36mcollate\u001B[39m\u001B[34m(batch, collate_fn_map)\u001B[39m\n\u001B[32m    153\u001B[39m \u001B[38;5;28;01mif\u001B[39;00m collate_fn_map \u001B[38;5;129;01mis\u001B[39;00m \u001B[38;5;129;01mnot\u001B[39;00m \u001B[38;5;28;01mNone\u001B[39;00m:\n\u001B[32m    154\u001B[39m     \u001B[38;5;28;01mif\u001B[39;00m elem_type \u001B[38;5;129;01min\u001B[39;00m collate_fn_map:\n\u001B[32m--> \u001B[39m\u001B[32m155\u001B[39m         \u001B[38;5;28;01mreturn\u001B[39;00m \u001B[43mcollate_fn_map\u001B[49m\u001B[43m[\u001B[49m\u001B[43melem_type\u001B[49m\u001B[43m]\u001B[49m\u001B[43m(\u001B[49m\u001B[43mbatch\u001B[49m\u001B[43m,\u001B[49m\u001B[43m \u001B[49m\u001B[43mcollate_fn_map\u001B[49m\u001B[43m=\u001B[49m\u001B[43mcollate_fn_map\u001B[49m\u001B[43m)\u001B[49m\n\u001B[32m    157\u001B[39m     \u001B[38;5;28;01mfor\u001B[39;00m collate_type \u001B[38;5;129;01min\u001B[39;00m collate_fn_map:\n\u001B[32m    158\u001B[39m         \u001B[38;5;28;01mif\u001B[39;00m \u001B[38;5;28misinstance\u001B[39m(elem, collate_type):\n",
      "\u001B[36mFile \u001B[39m\u001B[32m~\\Desktop\\Code\\Brain Tumor Detection Using CNN 2.0\\brainTumorDetction2.0\\venv\\Lib\\site-packages\\torch\\utils\\data\\_utils\\collate.py:272\u001B[39m, in \u001B[36mcollate_tensor_fn\u001B[39m\u001B[34m(batch, collate_fn_map)\u001B[39m\n\u001B[32m    270\u001B[39m     storage = elem._typed_storage()._new_shared(numel, device=elem.device)\n\u001B[32m    271\u001B[39m     out = elem.new(storage).resize_(\u001B[38;5;28mlen\u001B[39m(batch), *\u001B[38;5;28mlist\u001B[39m(elem.size()))\n\u001B[32m--> \u001B[39m\u001B[32m272\u001B[39m \u001B[38;5;28;01mreturn\u001B[39;00m \u001B[43mtorch\u001B[49m\u001B[43m.\u001B[49m\u001B[43mstack\u001B[49m\u001B[43m(\u001B[49m\u001B[43mbatch\u001B[49m\u001B[43m,\u001B[49m\u001B[43m \u001B[49m\u001B[32;43m0\u001B[39;49m\u001B[43m,\u001B[49m\u001B[43m \u001B[49m\u001B[43mout\u001B[49m\u001B[43m=\u001B[49m\u001B[43mout\u001B[49m\u001B[43m)\u001B[49m\n",
      "\u001B[31mKeyboardInterrupt\u001B[39m: "
     ]
    }
   ],
   "execution_count": 53
  },
  {
   "cell_type": "code",
   "id": "e13b6386-4375-4260-8c5b-f8a318cf102f",
   "metadata": {
    "ExecuteTime": {
     "end_time": "2025-04-02T20:55:07.436170Z",
     "start_time": "2025-04-02T20:55:07.325170Z"
    }
   },
   "source": [
    "# plt.figure(figsize=(16,9))\n",
    "plt.plot(epoch_train_loss, label='Train loss')\n",
    "plt.plot(epoch_test_loss, label = 'Validation loss')\n",
    "plt.legend()\n",
    "plt.grid()\n",
    "plt.xlabel('Epochs', fontsize=20)\n",
    "plt.ylabel('Loss', fontsize=20)"
   ],
   "outputs": [
    {
     "data": {
      "text/plain": [
       "Text(0, 0.5, 'Loss')"
      ]
     },
     "execution_count": 55,
     "metadata": {},
     "output_type": "execute_result"
    },
    {
     "data": {
      "text/plain": [
       "<Figure size 640x480 with 1 Axes>"
      ],
      "image/png": "[encoded data removed]"
     },
     "metadata": {},
     "output_type": "display_data"
    }
   ],
   "execution_count": 55
  },
  {
   "metadata": {},
   "cell_type": "code",
   "source": "",
   "id": "4fa69acb382112b7",
   "outputs": [],
   "execution_count": null
  }
 ],
 "metadata": {
  "kernelspec": {
   "display_name": "Python 3 (ipykernel)",
   "language": "python",
   "name": "python3"
  },
  "language_info": {
   "codemirror_mode": {
    "name": "ipython",
    "version": 3
   },
   "file_extension": ".py",
   "mimetype": "text/x-python",
   "name": "python",
   "nbconvert_exporter": "python",
   "pygments_lexer": "ipython3",
   "version": "3.10.14"
  }
 },
 "nbformat": 4,
 "nbformat_minor": 5
}
