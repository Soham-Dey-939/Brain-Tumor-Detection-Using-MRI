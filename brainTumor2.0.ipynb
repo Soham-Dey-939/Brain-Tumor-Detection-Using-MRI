{
 "cells": [
  {
   "metadata": {},
   "cell_type": "markdown",
   "source": "### Importing Necessary Packages",
   "id": "626ef415eaa8406d"
  },
  {
   "cell_type": "code",
   "id": "initial_id",
   "metadata": {
    "collapsed": true,
    "ExecuteTime": {
     "end_time": "2025-03-30T20:51:07.030519Z",
     "start_time": "2025-03-30T20:51:07.002259Z"
    }
   },
   "source": [
    "import os\n",
    "import glob\n",
    "import cv2\n",
    "import random\n",
    "import sys\n",
    "\n",
    "import numpy as np\n",
    "import matplotlib.pyplot as plt\n",
    "\n",
    "from sklearn.decomposition import PCA\n",
    "from sklearn.linear_model import LogisticRegression\n",
    "\n",
    "from sklearn.model_selection import train_test_split\n",
    "from sklearn.preprocessing import StandardScaler\n",
    "from sklearn.model_selection import StratifiedKFold\n",
    "from sklearn.metrics import accuracy_score, precision_score, recall_score, f1_score, confusion_matrix\n",
    "\n",
    "import torch\n",
    "from torch.utils.data import Dataset, DataLoader\n",
    "from torch.nn import Module, Sequential\n",
    "from torch.nn import Linear, Conv2d, Tanh, MaxPool2d, BatchNorm2d, Dropout\n",
    "from torch.nn import BCELoss\n",
    "from torch.optim import Adam\n",
    "\n",
    "np.set_printoptions(suppress=True)"
   ],
   "outputs": [],
   "execution_count": 9
  },
  {
   "metadata": {
    "ExecuteTime": {
     "end_time": "2025-03-30T20:51:07.894973Z",
     "start_time": "2025-03-30T20:51:07.868227Z"
    }
   },
   "cell_type": "code",
   "source": [
    "# Declare Global Variables\n",
    "SEED = 0\n",
    "TEST_SIZE = 0.2\n",
    "DTYPE_FEATURE = torch.float64\n",
    "DTYPE_LABEL = torch.float64\n",
    "DEVICE = 'cuda:0' if torch.cuda.is_available() else 'cpu'\n",
    "SPLITS = 5\n",
    "BATCH_SIZE_TRAIN = 128\n",
    "BATCH_SIZE_TEST = 64\n",
    "DROPOUT = 0.00\n",
    "LEARNING_RATE = 1e-3\n",
    "WEIGHT_DECAY = 0.1\n",
    "PATIENCE = 20\n",
    "DELTA = 0\n",
    "EPOCHS = 250\n",
    "CUTOFF_PROBABILITY = 0.5\n",
    "\n",
    "CV_OBJECT = StratifiedKFold(n_splits=SPLITS, shuffle=True)\n",
    "LOSS_OBJECT = BCELoss()"
   ],
   "id": "a039bd59fd754202",
   "outputs": [],
   "execution_count": 10
  },
  {
   "metadata": {
    "ExecuteTime": {
     "end_time": "2025-03-30T20:51:08.632630Z",
     "start_time": "2025-03-30T20:51:08.589322Z"
    }
   },
   "cell_type": "code",
   "source": [
    "#Define manual seed for reproducibility\n",
    "np.random.seed(SEED)\n",
    "torch.manual_seed(SEED)"
   ],
   "id": "9d5a86fc6897dd93",
   "outputs": [
    {
     "data": {
      "text/plain": [
       "<torch._C.Generator at 0x1a994368610>"
      ]
     },
     "execution_count": 11,
     "metadata": {},
     "output_type": "execute_result"
    }
   ],
   "execution_count": 11
  },
  {
   "metadata": {},
   "cell_type": "markdown",
   "source": "# Reading the images",
   "id": "77aa34ed66e16edb"
  },
  {
   "metadata": {
    "ExecuteTime": {
     "end_time": "2025-03-30T21:14:39.712523Z",
     "start_time": "2025-03-30T21:14:39.690953Z"
    }
   },
   "cell_type": "code",
   "source": [
    "tumor = []\n",
    "path = 'dataset/yes/*.jpg'\n",
    "for f in glob.iglob(path):\n",
    "    print(f)\n",
    "    img = cv2.imread(f)\n",
    "    img = cv2.resize(img, (128, 128))\n",
    "    b, g, r = cv2.split(img)\n",
    "    img = cv2.merge([r, g, b])\n",
    "    tumor.append(img)"
   ],
   "id": "92c3384fb6a60fdf",
   "outputs": [
    {
     "name": "stdout",
     "output_type": "stream",
     "text": [
      "Total images loaded: 0\n"
     ]
    }
   ],
   "execution_count": 42
  },
  {
   "metadata": {
    "ExecuteTime": {
     "end_time": "2025-03-30T21:09:17.881020Z",
     "start_time": "2025-03-30T21:09:17.861876Z"
    }
   },
   "cell_type": "code",
   "source": "len(tumor)",
   "id": "bab19967f27169bf",
   "outputs": [
    {
     "data": {
      "text/plain": [
       "0"
      ]
     },
     "execution_count": 30,
     "metadata": {},
     "output_type": "execute_result"
    }
   ],
   "execution_count": 30
  },
  {
   "metadata": {
    "ExecuteTime": {
     "end_time": "2025-03-30T21:09:43.725953Z",
     "start_time": "2025-03-30T21:09:43.721426Z"
    }
   },
   "cell_type": "code",
   "source": [
    "healthy = []\n",
    "path = './dataset/no/*.jpg'\n",
    "for f in glob.iglob(path):\n",
    "    img = cv2.imread(f)\n",
    "    img = cv2.resize(img, (128,128))\n",
    "    b, g, r = cv2.split(img)\n",
    "    img = cv2.merge([r, g, b])\n",
    "    healthy.append(img)"
   ],
   "id": "e3bf561986731167",
   "outputs": [],
   "execution_count": 32
  },
  {
   "metadata": {
    "ExecuteTime": {
     "end_time": "2025-03-30T21:09:48.493162Z",
     "start_time": "2025-03-30T21:09:48.486998Z"
    }
   },
   "cell_type": "code",
   "source": "len(healthy)",
   "id": "aff532400251f894",
   "outputs": [
    {
     "data": {
      "text/plain": [
       "0"
      ]
     },
     "execution_count": 33,
     "metadata": {},
     "output_type": "execute_result"
    }
   ],
   "execution_count": 33
  },
  {
   "metadata": {
    "ExecuteTime": {
     "end_time": "2025-03-30T21:13:03.391936Z",
     "start_time": "2025-03-30T21:13:03.153206Z"
    }
   },
   "cell_type": "code",
   "source": [
    "folder = 'dataset/yes'\n",
    "print(\"Folder exists:\", os.path.exists(folder))\n",
    "print(\"Files in folder:\", os.listdir(folder))"
   ],
   "id": "81fac7d8e58faa57",
   "outputs": [
    {
     "name": "stdout",
     "output_type": "stream",
     "text": [
      "Folder exists: False\n"
     ]
    },
    {
     "ename": "FileNotFoundError",
     "evalue": "[WinError 3] The system cannot find the path specified: 'dataset/yes'",
     "output_type": "error",
     "traceback": [
      "\u001B[1;31m---------------------------------------------------------------------------\u001B[0m",
      "\u001B[1;31mFileNotFoundError\u001B[0m                         Traceback (most recent call last)",
      "Cell \u001B[1;32mIn[38], line 3\u001B[0m\n\u001B[0;32m      1\u001B[0m folder \u001B[38;5;241m=\u001B[39m \u001B[38;5;124m'\u001B[39m\u001B[38;5;124mdataset/yes\u001B[39m\u001B[38;5;124m'\u001B[39m\n\u001B[0;32m      2\u001B[0m \u001B[38;5;28mprint\u001B[39m(\u001B[38;5;124m\"\u001B[39m\u001B[38;5;124mFolder exists:\u001B[39m\u001B[38;5;124m\"\u001B[39m, os\u001B[38;5;241m.\u001B[39mpath\u001B[38;5;241m.\u001B[39mexists(folder))\n\u001B[1;32m----> 3\u001B[0m \u001B[38;5;28mprint\u001B[39m(\u001B[38;5;124m\"\u001B[39m\u001B[38;5;124mFiles in folder:\u001B[39m\u001B[38;5;124m\"\u001B[39m, \u001B[43mos\u001B[49m\u001B[38;5;241;43m.\u001B[39;49m\u001B[43mlistdir\u001B[49m\u001B[43m(\u001B[49m\u001B[43mfolder\u001B[49m\u001B[43m)\u001B[49m)\n",
      "\u001B[1;31mFileNotFoundError\u001B[0m: [WinError 3] The system cannot find the path specified: 'dataset/yes'"
     ]
    }
   ],
   "execution_count": 38
  },
  {
   "metadata": {},
   "cell_type": "code",
   "outputs": [],
   "execution_count": null,
   "source": "",
   "id": "ec1e51824c9f935b"
  }
 ],
 "metadata": {
  "kernelspec": {
   "display_name": "Python 3",
   "language": "python",
   "name": "python3"
  },
  "language_info": {
   "codemirror_mode": {
    "name": "ipython",
    "version": 2
   },
   "file_extension": ".py",
   "mimetype": "text/x-python",
   "name": "python",
   "nbconvert_exporter": "python",
   "pygments_lexer": "ipython2",
   "version": "2.7.6"
  }
 },
 "nbformat": 4,
 "nbformat_minor": 5
}
