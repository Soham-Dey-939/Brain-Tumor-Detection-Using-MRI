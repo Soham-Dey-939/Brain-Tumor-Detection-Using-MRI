{
 "cells": [
  {
   "cell_type": "markdown",
   "id": "dafc7c3a6afc0473",
   "metadata": {},
   "source": [
    "# Importing the Packages"
   ]
  },
  {
   "cell_type": "code",
   "id": "918e2bfce3e100e",
   "metadata": {
    "ExecuteTime": {
     "end_time": "2025-03-31T19:48:35.820581Z",
     "start_time": "2025-03-31T19:48:32.038994Z"
    }
   },
   "source": [
    "import numpy as np\n",
    "import matplotlib.pyplot as plt\n",
    "import torch\n",
    "from torch.utils.data import Dataset, ConcatDataset, DataLoader\n",
    "import glob\n",
    "from sklearn.metrics import confusion_matrix, accuracy_score\n",
    "import cv2\n",
    "import random\n",
    "import sys"
   ],
   "outputs": [],
   "execution_count": 1
  },
  {
   "cell_type": "markdown",
   "id": "cc49e0e77de00235",
   "metadata": {},
   "source": "# Reading the images"
  },
  {
   "cell_type": "code",
   "id": "6bfd060ad1e2dc7a",
   "metadata": {
    "scrolled": true,
    "ExecuteTime": {
     "end_time": "2025-03-31T19:48:35.826282Z",
     "start_time": "2025-03-31T19:48:35.822064Z"
    }
   },
   "source": [
    "tumor = []\n",
    "path = '../data/brain_tumor_dataset/yes/*.jpg'\n",
    "for f in glob.iglob(path):\n",
    "    img = cv2.imread(f)\n",
    "    img = cv2.resize(img, (128,128))\n",
    "    b, g, r = cv2.split(img)\n",
    "    img = cv2.merge([r, g, b])\n",
    "    tumor.append(img)"
   ],
   "outputs": [],
   "execution_count": 2
  },
  {
   "cell_type": "code",
   "id": "b0f350cb4d2e918",
   "metadata": {
    "ExecuteTime": {
     "end_time": "2025-03-31T19:48:35.833388Z",
     "start_time": "2025-03-31T19:48:35.827290Z"
    }
   },
   "source": [
    "len(tumor)"
   ],
   "outputs": [
    {
     "data": {
      "text/plain": [
       "0"
      ]
     },
     "execution_count": 3,
     "metadata": {},
     "output_type": "execute_result"
    }
   ],
   "execution_count": 3
  },
  {
   "cell_type": "code",
   "id": "de83a9cc8f828ad3",
   "metadata": {
    "ExecuteTime": {
     "end_time": "2025-03-31T19:48:35.838790Z",
     "start_time": "2025-03-31T19:48:35.834394Z"
    }
   },
   "source": [
    "healthy = []\n",
    "path = '../data/brain_tumor_dataset/no/*.jpg'\n",
    "for f in glob.iglob(path):\n",
    "    img = cv2.imread(f)\n",
    "    img = cv2.resize(img, (128,128))\n",
    "    b, g, r = cv2.split(img)\n",
    "    img = cv2.merge([r, g, b])\n",
    "    healthy.append(img)"
   ],
   "outputs": [],
   "execution_count": 4
  },
  {
   "cell_type": "code",
   "id": "c3e0b9f6-0815-4a06-acde-b50a7d0e474f",
   "metadata": {
    "ExecuteTime": {
     "end_time": "2025-03-31T19:48:35.843972Z",
     "start_time": "2025-03-31T19:48:35.839797Z"
    }
   },
   "source": [
    "len(healthy)"
   ],
   "outputs": [
    {
     "data": {
      "text/plain": [
       "0"
      ]
     },
     "execution_count": 5,
     "metadata": {},
     "output_type": "execute_result"
    }
   ],
   "execution_count": 5
  },
  {
   "cell_type": "code",
   "id": "67917b58-dc64-4e8d-a5db-640ce6dbb607",
   "metadata": {
    "ExecuteTime": {
     "end_time": "2025-03-31T19:48:35.849169Z",
     "start_time": "2025-03-31T19:48:35.844981Z"
    }
   },
   "source": [
    "healthy = np.array(healthy)"
   ],
   "outputs": [],
   "execution_count": 6
  },
  {
   "cell_type": "code",
   "id": "1439bac4-7099-4a08-8405-c508fe87ac56",
   "metadata": {
    "ExecuteTime": {
     "end_time": "2025-03-31T19:48:35.853651Z",
     "start_time": "2025-03-31T19:48:35.850185Z"
    }
   },
   "source": [
    "tumor = np.array(tumor)"
   ],
   "outputs": [],
   "execution_count": 7
  },
  {
   "cell_type": "code",
   "id": "ed4ef08f-3d31-4c3a-825c-097350608c0e",
   "metadata": {
    "ExecuteTime": {
     "end_time": "2025-03-31T19:48:35.858404Z",
     "start_time": "2025-03-31T19:48:35.854660Z"
    }
   },
   "source": [
    "tumor.shape"
   ],
   "outputs": [
    {
     "data": {
      "text/plain": [
       "(0,)"
      ]
     },
     "execution_count": 8,
     "metadata": {},
     "output_type": "execute_result"
    }
   ],
   "execution_count": 8
  },
  {
   "cell_type": "code",
   "id": "682fc88e-b8c3-4168-ac8c-82c85d0d75fc",
   "metadata": {
    "ExecuteTime": {
     "end_time": "2025-03-31T19:48:35.863539Z",
     "start_time": "2025-03-31T19:48:35.859413Z"
    }
   },
   "source": [
    "healthy.shape"
   ],
   "outputs": [
    {
     "data": {
      "text/plain": [
       "(0,)"
      ]
     },
     "execution_count": 9,
     "metadata": {},
     "output_type": "execute_result"
    }
   ],
   "execution_count": 9
  },
  {
   "cell_type": "code",
   "id": "d9e86518-1450-4a87-93a8-96467cb81ee9",
   "metadata": {
    "ExecuteTime": {
     "end_time": "2025-03-31T19:48:35.869466Z",
     "start_time": "2025-03-31T19:48:35.866549Z"
    }
   },
   "source": [
    "ALL = np.concat((healthy, tumor))"
   ],
   "outputs": [],
   "execution_count": 10
  },
  {
   "cell_type": "code",
   "id": "eb2808f9-68e9-4fe7-b4ef-f8f71140578c",
   "metadata": {
    "ExecuteTime": {
     "end_time": "2025-03-31T19:48:35.874715Z",
     "start_time": "2025-03-31T19:48:35.870474Z"
    }
   },
   "source": [
    "type(healthy)"
   ],
   "outputs": [
    {
     "data": {
      "text/plain": [
       "numpy.ndarray"
      ]
     },
     "execution_count": 11,
     "metadata": {},
     "output_type": "execute_result"
    }
   ],
   "execution_count": 11
  },
  {
   "cell_type": "code",
   "id": "9c1e2f90-f16a-4033-9773-219343abb471",
   "metadata": {
    "ExecuteTime": {
     "end_time": "2025-03-31T19:48:35.879519Z",
     "start_time": "2025-03-31T19:48:35.875790Z"
    }
   },
   "source": [
    "ALL.shape"
   ],
   "outputs": [
    {
     "data": {
      "text/plain": [
       "(0,)"
      ]
     },
     "execution_count": 12,
     "metadata": {},
     "output_type": "execute_result"
    }
   ],
   "execution_count": 12
  },
  {
   "cell_type": "markdown",
   "id": "f42f71a3-1920-4168-8ecd-70d88e412a97",
   "metadata": {},
   "source": [
    "# Visualizing Brain MRI Images"
   ]
  },
  {
   "cell_type": "code",
   "id": "eb63a97b-e53f-4a57-8369-cee5970d9cb7",
   "metadata": {
    "ExecuteTime": {
     "end_time": "2025-03-31T19:48:35.886245Z",
     "start_time": "2025-03-31T19:48:35.880027Z"
    }
   },
   "source": [
    "def plot_random(healthy: np.ndarray, tumor: np.ndarray, num:int = 5):\n",
    "        healthy_imgs = healthy[np.random.choice(healthy.shape[0], num, replace=False)]\n",
    "        tumor_imgs = tumor[np.random.choice(tumor.shape[0], num, replace=False)]\n",
    "\n",
    "        plt.figure(figsize = (16, 9))\n",
    "        for i in range(num):\n",
    "            plt.subplot(1, num, i+1)\n",
    "            plt.title('healthy')\n",
    "            plt.imshow(healthy_imgs[i])\n",
    "\n",
    "        plt.figure(figsize = (16, 9))\n",
    "        for j in range(num):\n",
    "            plt.subplot(1, num, j+1)\n",
    "            plt.title('tumor')\n",
    "            plt.imshow(tumor_imgs[j])\n",
    "            "
   ],
   "outputs": [],
   "execution_count": 13
  },
  {
   "cell_type": "code",
   "id": "addd1bf4-009d-44f9-a5ca-b55a4dad2840",
   "metadata": {
    "ExecuteTime": {
     "end_time": "2025-03-31T19:48:36.059222Z",
     "start_time": "2025-03-31T19:48:35.886753Z"
    }
   },
   "source": [
    "plot_random(healthy, tumor, 5)"
   ],
   "outputs": [
    {
     "ename": "ValueError",
     "evalue": "a must be greater than 0 unless no samples are taken",
     "output_type": "error",
     "traceback": [
      "\u001B[1;31m---------------------------------------------------------------------------\u001B[0m",
      "\u001B[1;31mValueError\u001B[0m                                Traceback (most recent call last)",
      "Cell \u001B[1;32mIn[14], line 1\u001B[0m\n\u001B[1;32m----> 1\u001B[0m \u001B[43mplot_random\u001B[49m\u001B[43m(\u001B[49m\u001B[43mhealthy\u001B[49m\u001B[43m,\u001B[49m\u001B[43m \u001B[49m\u001B[43mtumor\u001B[49m\u001B[43m,\u001B[49m\u001B[43m \u001B[49m\u001B[38;5;241;43m5\u001B[39;49m\u001B[43m)\u001B[49m\n",
      "Cell \u001B[1;32mIn[13], line 2\u001B[0m, in \u001B[0;36mplot_random\u001B[1;34m(healthy, tumor, num)\u001B[0m\n\u001B[0;32m      1\u001B[0m \u001B[38;5;28;01mdef\u001B[39;00m \u001B[38;5;21mplot_random\u001B[39m(healthy: np\u001B[38;5;241m.\u001B[39mndarray, tumor: np\u001B[38;5;241m.\u001B[39mndarray, num:\u001B[38;5;28mint\u001B[39m \u001B[38;5;241m=\u001B[39m \u001B[38;5;241m5\u001B[39m):\n\u001B[1;32m----> 2\u001B[0m         healthy_imgs \u001B[38;5;241m=\u001B[39m healthy[\u001B[43mnp\u001B[49m\u001B[38;5;241;43m.\u001B[39;49m\u001B[43mrandom\u001B[49m\u001B[38;5;241;43m.\u001B[39;49m\u001B[43mchoice\u001B[49m\u001B[43m(\u001B[49m\u001B[43mhealthy\u001B[49m\u001B[38;5;241;43m.\u001B[39;49m\u001B[43mshape\u001B[49m\u001B[43m[\u001B[49m\u001B[38;5;241;43m0\u001B[39;49m\u001B[43m]\u001B[49m\u001B[43m,\u001B[49m\u001B[43m \u001B[49m\u001B[43mnum\u001B[49m\u001B[43m,\u001B[49m\u001B[43m \u001B[49m\u001B[43mreplace\u001B[49m\u001B[38;5;241;43m=\u001B[39;49m\u001B[38;5;28;43;01mFalse\u001B[39;49;00m\u001B[43m)\u001B[49m]\n\u001B[0;32m      3\u001B[0m         tumor_imgs \u001B[38;5;241m=\u001B[39m tumor[np\u001B[38;5;241m.\u001B[39mrandom\u001B[38;5;241m.\u001B[39mchoice(tumor\u001B[38;5;241m.\u001B[39mshape[\u001B[38;5;241m0\u001B[39m], num, replace\u001B[38;5;241m=\u001B[39m\u001B[38;5;28;01mFalse\u001B[39;00m)]\n\u001B[0;32m      5\u001B[0m         plt\u001B[38;5;241m.\u001B[39mfigure(figsize \u001B[38;5;241m=\u001B[39m (\u001B[38;5;241m16\u001B[39m, \u001B[38;5;241m9\u001B[39m))\n",
      "File \u001B[1;32mnumpy\\\\random\\\\mtrand.pyx:968\u001B[0m, in \u001B[0;36mnumpy.random.mtrand.RandomState.choice\u001B[1;34m()\u001B[0m\n",
      "\u001B[1;31mValueError\u001B[0m: a must be greater than 0 unless no samples are taken"
     ]
    }
   ],
   "execution_count": 14
  },
  {
   "cell_type": "markdown",
   "id": "c90570bf-bc97-4804-9e34-67f37c6ba037",
   "metadata": {},
   "source": [
    "## Creating MRI Custom Dataset Class"
   ]
  },
  {
   "cell_type": "code",
   "id": "70ef69d5-b790-4adf-aeb0-eca28d1ad792",
   "metadata": {
    "ExecuteTime": {
     "end_time": "2025-03-31T19:48:36.059222Z",
     "start_time": "2025-03-31T19:48:36.059222Z"
    }
   },
   "source": [
    "class Dataset(object):\n",
    "    def __getitem__(self, index):\n",
    "        raise NotImplementedError\n",
    "        \n",
    "    def __len__(self):\n",
    "        raise NotImplementedError\n",
    "        \n",
    "    def __add__(self, other):\n",
    "        return ConcatDataset([self, other])"
   ],
   "outputs": [],
   "execution_count": null
  },
  {
   "cell_type": "code",
   "id": "1937accb-725a-469f-b001-73197a162c50",
   "metadata": {
    "ExecuteTime": {
     "end_time": "2025-03-31T19:48:36.059222Z",
     "start_time": "2025-03-31T19:48:36.059222Z"
    }
   },
   "source": [
    "class MRI(Dataset):\n",
    "    def __init__(self):\n",
    "        tumor = []\n",
    "        healthy = []\n",
    "        path = '../data/brain_tumor_dataset/yes/*.jpg'\n",
    "        for f in glob.iglob(path):\n",
    "            img = cv2.imread(f)\n",
    "            img = cv2.resize(img, (128,128))\n",
    "            b, g, r = cv2.split(img)\n",
    "            img = cv2.merge([r, g, b])\n",
    "            img = img.reshape((img.shape[2],img.shape[0],img.shape[1]))\n",
    "            tumor.append(img)\n",
    "\n",
    "        path = '../data/brain_tumor_dataset/no/*.jpg'\n",
    "        for f in glob.iglob(path):\n",
    "            img = cv2.imread(f)\n",
    "            img = cv2.resize(img, (128,128))\n",
    "            b, g, r = cv2.split(img)\n",
    "            img = cv2.merge([r, g, b])\n",
    "            img = img.reshape((img.shape[2],img.shape[0],img.shape[1]))\n",
    "            healthy.append(img)\n",
    "        \n",
    "        #images\n",
    "        tumor = np.array(tumor, dtype=np.float32)\n",
    "        healthy = np.array(healthy, dtype=np.float32)\n",
    "\n",
    "        #labels\n",
    "        tumor_label = np.ones(tumor.shape[0], dtype=np.float32)\n",
    "        healthy_label = np.zeros(healthy.shape[0], dtype=np.float32)\n",
    "\n",
    "        #Concatenate\n",
    "        self.images = np.concatenate((tumor, healthy), axis=0)\n",
    "        self.labels = np.concatenate((tumor_label, healthy_label))\n",
    "            \n",
    "    def __len__(self):\n",
    "        return self.images.shape[0]\n",
    "        \n",
    "    def __getitem__(self, index: int):\n",
    "        \n",
    "        sample = {'image': self.images[index], 'label': self.labels[index]}\n",
    "        return sample\n",
    "\n",
    "    def normalize(self):\n",
    "        self.images = self.images/255.0"
   ],
   "outputs": [],
   "execution_count": null
  },
  {
   "cell_type": "code",
   "id": "6e65f038-2b5e-4c52-ba8b-8d6da17dc85f",
   "metadata": {
    "ExecuteTime": {
     "end_time": "2025-03-31T19:48:36.059222Z",
     "start_time": "2025-03-31T19:48:36.059222Z"
    }
   },
   "source": [
    "mri_dataset = MRI()"
   ],
   "outputs": [],
   "execution_count": null
  },
  {
   "cell_type": "code",
   "id": "fca23ef6-24cc-4e34-b7b8-d9643f623d21",
   "metadata": {},
   "source": [
    "mri_dataset.normalize()"
   ],
   "outputs": [],
   "execution_count": null
  },
  {
   "cell_type": "markdown",
   "id": "c445ed11-673c-488a-81e4-1078dd58431d",
   "metadata": {},
   "source": [
    "# Creating a Dataloader"
   ]
  },
  {
   "cell_type": "code",
   "id": "6fc9480b-c095-4875-a78a-e9c88c8e6b57",
   "metadata": {},
   "source": "dataloader = DataLoader(dataset = mri_dataset, batch_size = 10, shuffle = True)",
   "outputs": [],
   "execution_count": null
  },
  {
   "cell_type": "code",
   "id": "0951b0f8-ece6-4464-9af3-16321eb47357",
   "metadata": {},
   "source": [
    "names={0:'Heathy', 1:'Tumor'}\n",
    "dataloader = DataLoader(mri_dataset, shuffle=True)\n",
    "for i, sample in enumerate(dataloader):\n",
    "    img = sample['image'].squeeze()\n",
    "    img = img.reshape((img.shape[1], img.shape[2], img.shape[0]))\n",
    "    plt.title(names[sample['label'].item()])\n",
    "    plt.imshow(img)\n",
    "    plt.show()\n",
    "    if i == 5:\n",
    "        break"
   ],
   "outputs": [],
   "execution_count": null
  },
  {
   "cell_type": "markdown",
   "id": "29616c8e-00b1-4d99-878b-bd795ff5dc0b",
   "metadata": {},
   "source": [
    "# Creating a model"
   ]
  },
  {
   "cell_type": "code",
   "id": "17e90f85-5292-4878-a138-b079e8ba14b5",
   "metadata": {},
   "source": [
    "import torch.nn as nn\n",
    "import torch.nn.functional as F\n",
    "\n",
    "class CNN(nn.Module):\n",
    "    def __init__(self):\n",
    "        super(CNN,self).__init__()\n",
    "        self.cnn_model = nn.Sequential(\n",
    "        nn.Conv2d(in_channels=3, out_channels=6, kernel_size=5),\n",
    "        nn.Tanh(),\n",
    "        nn.AvgPool2d(kernel_size=2, stride=5),\n",
    "        nn.Conv2d(in_channels=6, out_channels=16, kernel_size=5),\n",
    "        nn.Tanh(),\n",
    "        nn.AvgPool2d(kernel_size=2, stride=5))\n",
    "        \n",
    "        self.fc_model = nn.Sequential(\n",
    "        nn.Linear(in_features=256, out_features=120),\n",
    "        nn.Tanh(),\n",
    "        nn.Linear(in_features=120, out_features=84),\n",
    "        nn.Tanh(),\n",
    "        nn.Linear(in_features=84, out_features=1))\n",
    "        \n",
    "    def forward(self, x):\n",
    "        x = self.cnn_model(x)\n",
    "        x = x.view(x.size(0), -1)\n",
    "        x = self.fc_model(x)\n",
    "        x = F.sigmoid(x)\n",
    "        \n",
    "        return x\n",
    "            "
   ],
   "outputs": [],
   "execution_count": null
  },
  {
   "cell_type": "markdown",
   "id": "fe2fa6d4-29ab-48de-9efd-a35b64bc5553",
   "metadata": {},
   "source": [
    "## Creating GPU Tensor"
   ]
  },
  {
   "cell_type": "code",
   "id": "fbf6f0bb-b9f5-4899-8bb0-e923bb60bfef",
   "metadata": {},
   "source": [
    "device = torch.device('cuda' if torch.cuda.is_available() else 'cpu')\n",
    "\n",
    "# creating a CPU tensor\n",
    "cpu_tensor = torch.rand(10).to(device)\n",
    "# moving same tensor to GPU\n",
    "gpu_tensor = cpu_tensor.to(device)\n",
    "\n",
    "print(cpu_tensor, cpu_tensor.dtype, type(cpu_tensor), cpu_tensor.type())\n",
    "print(gpu_tensor, gpu_tensor.dtype, type(gpu_tensor), gpu_tensor.type())"
   ],
   "outputs": [],
   "execution_count": null
  },
  {
   "cell_type": "markdown",
   "id": "6cc8144f-6233-497a-9101-59517f773a69",
   "metadata": {},
   "source": [
    "# Evaluating a New-Born Neural Network"
   ]
  },
  {
   "cell_type": "code",
   "id": "9d155f88-6f94-4920-8a06-63d54402ae85",
   "metadata": {},
   "source": [
    "mri_dataset = MRI()\n",
    "mri_dataset.normalize()\n",
    "device = torch.device('cuda:0')\n",
    "model = CNN().to(device)"
   ],
   "outputs": [],
   "execution_count": null
  },
  {
   "cell_type": "code",
   "id": "b021b429-30ae-4870-b16b-2a355540ad9a",
   "metadata": {},
   "source": [
    "dataloader = DataLoader(mri_dataset, batch_size=32, shuffle=False)"
   ],
   "outputs": [],
   "execution_count": null
  },
  {
   "cell_type": "code",
   "id": "64b33019-d2f1-4add-8283-5aad060ad709",
   "metadata": {},
   "source": [
    "model.eval()\n",
    "outputs = []\n",
    "y_true = []\n",
    "with torch.no_grad():\n",
    "    for D in dataloader:\n",
    "        image = D['image'].to(device)\n",
    "        label = D['label'].to(device)\n",
    "\n",
    "        y_hat = model(image)\n",
    "\n",
    "        outputs.append(y_hat.cpu().detach().numpy())\n",
    "        y_true.append(label.cpu().detach().numpy())\n",
    "    \n"
   ],
   "outputs": [],
   "execution_count": null
  },
  {
   "cell_type": "code",
   "id": "25f62e7b-cc18-4482-b1a3-a2fe7e68d1d3",
   "metadata": {},
   "source": [
    "outputs = np.concatenate( outputs, axis=0 ).squeeze()\n",
    "y_true = np.concatenate( y_true, axis=0 ).squeeze()"
   ],
   "outputs": [],
   "execution_count": null
  },
  {
   "cell_type": "code",
   "id": "fdc3ec16-7027-44c0-be50-016f0bd70b37",
   "metadata": {
    "ExecuteTime": {
     "end_time": "2025-03-31T19:48:36.070782Z",
     "start_time": "2025-03-31T19:48:36.070782Z"
    }
   },
   "source": [
    "def threshold(scores,threshold=0.50, minimum=0, maximum = 1.0):\n",
    "    x = np.array(list(scores))\n",
    "    x[x >= threshold] = maximum\n",
    "    x[x < threshold] = minimum\n",
    "    return x"
   ],
   "outputs": [],
   "execution_count": null
  },
  {
   "cell_type": "code",
   "id": "0f1e3aab-6693-4c2a-9c73-b95818710bf0",
   "metadata": {
    "ExecuteTime": {
     "end_time": "2025-03-31T19:48:36.072802Z",
     "start_time": "2025-03-31T19:48:36.072802Z"
    }
   },
   "source": [
    "accuracy_score(y_true, threshold(outputs))"
   ],
   "outputs": [],
   "execution_count": null
  },
  {
   "cell_type": "markdown",
   "id": "d561696b-086a-46fc-8b3e-d5a934145c1a",
   "metadata": {},
   "source": [
    "## Confusion Matrix"
   ]
  },
  {
   "cell_type": "code",
   "id": "f71f203f-905b-419f-a53d-81bc73e7a8c5",
   "metadata": {
    "ExecuteTime": {
     "end_time": "2025-03-31T19:48:36.073315Z",
     "start_time": "2025-03-31T19:48:36.073315Z"
    }
   },
   "source": [
    "import seaborn as sns\n",
    "\n",
    "cm = confusion_matrix(y_true, threshold(outputs))\n",
    "plt.figure(figsize=(16,9))\n",
    "\n",
    "ax= plt.subplot()\n",
    "sns.heatmap(cm, annot=True, fmt='g', ax=ax);  #annot=True to annotate cells, ftm='g' to disable scientific notation\n",
    "\n",
    "# labels, title and ticks\n",
    "ax.set_xlabel('Predicted labels');ax.set_ylabel('True labels'); \n",
    "ax.set_title('Confusion Matrix'); \n",
    "ax.xaxis.set_ticklabels(['Tumor','Healthy'])\n",
    "ax.yaxis.set_ticklabels(['Tumor','Healthy'])"
   ],
   "outputs": [],
   "execution_count": null
  },
  {
   "cell_type": "markdown",
   "id": "c5d7a089-9ea0-4123-8c5b-ca7b5bd565b7",
   "metadata": {},
   "source": [
    "# Training The Model"
   ]
  },
  {
   "cell_type": "code",
   "id": "82b423f3-cb5d-43e2-b8ec-ec2e9db9f622",
   "metadata": {
    "ExecuteTime": {
     "end_time": "2025-03-31T19:48:36.074573Z",
     "start_time": "2025-03-31T19:48:36.074573Z"
    }
   },
   "source": [
    "eta = 0.0001\n",
    "EPOCH = 400\n",
    "optimizer = torch.optim.Adam(model.parameters(), lr=eta)\n",
    "dataloader = DataLoader(mri_dataset, batch_size=32, shuffle=True)\n",
    "model.train()"
   ],
   "outputs": [],
   "execution_count": null
  },
  {
   "cell_type": "code",
   "id": "577b901b-1cbe-4fac-b1fc-398f769e18d9",
   "metadata": {
    "ExecuteTime": {
     "end_time": "2025-03-31T19:48:36.075733Z",
     "start_time": "2025-03-31T19:48:36.075733Z"
    }
   },
   "source": [
    "for epoch in range(1, EPOCH):\n",
    "    losses = []\n",
    "    for D in dataloader:\n",
    "        optimizer.zero_grad()\n",
    "        data = D['image'].to(device)\n",
    "        label = D['label'].to(device)\n",
    "        y_hat = model(data)\n",
    "        # define loss function\n",
    "        error = nn.BCELoss() \n",
    "        loss = torch.sum(error(y_hat.squeeze(), label))\n",
    "        loss.backward()\n",
    "        optimizer.step()\n",
    "        losses.append(loss.item())\n",
    "    if (epoch+1) % 10 == 0:\n",
    "        print('Train Epoch: {}\\tLoss: {:.6f}'.format(epoch+1, np.mean(losses)))"
   ],
   "outputs": [],
   "execution_count": null
  },
  {
   "cell_type": "markdown",
   "id": "90291853-d32c-421b-8084-34ce57abd729",
   "metadata": {},
   "source": [
    "# Evaluating the Trained Model"
   ]
  },
  {
   "cell_type": "code",
   "id": "ed2bf52a-8f02-49e8-a49d-f721e226c324",
   "metadata": {
    "ExecuteTime": {
     "end_time": "2025-03-31T19:48:36.075733Z",
     "start_time": "2025-03-31T19:48:36.075733Z"
    }
   },
   "source": [
    "model.eval()\n",
    "dataloader = DataLoader(mri_dataset, batch_size=32, shuffle=False)\n",
    "outputs=[]\n",
    "y_true = []\n",
    "with torch.no_grad():\n",
    "    for D in dataloader:\n",
    "        image =  D['image'].to(device)\n",
    "        label = D['label'].to(device)\n",
    "        \n",
    "        y_hat = model(image)\n",
    "        \n",
    "        outputs.append(y_hat.cpu().detach().numpy())\n",
    "        y_true.append(label.cpu().detach().numpy())\n",
    "        \n",
    "outputs = np.concatenate( outputs, axis=0 )\n",
    "y_true = np.concatenate( y_true, axis=0 )"
   ],
   "outputs": [],
   "execution_count": null
  },
  {
   "cell_type": "code",
   "id": "af8fa583-700a-402b-b9a3-0e576ccd8e00",
   "metadata": {
    "ExecuteTime": {
     "end_time": "2025-03-31T19:48:36.077013Z",
     "start_time": "2025-03-31T19:48:36.077013Z"
    }
   },
   "source": [
    "accuracy_score(y_true, threshold(outputs))"
   ],
   "outputs": [],
   "execution_count": null
  },
  {
   "cell_type": "code",
   "id": "a66ccbea-6741-4298-b00d-e62cda30c49d",
   "metadata": {},
   "source": [
    "cm = confusion_matrix(y_true, threshold(outputs))\n",
    "plt.figure(figsize=(16,9))\n",
    "\n",
    "ax= plt.subplot()\n",
    "sns.heatmap(cm, annot=True, fmt='g', ax=ax);  #annot=True to annotate cells, ftm='g' to disable scientific notation\n",
    "\n",
    "# labels, title and ticks\n",
    "ax.set_xlabel('Predicted labels');ax.set_ylabel('True labels'); \n",
    "ax.set_title('Confusion Matrix'); \n",
    "ax.xaxis.set_ticklabels(['Tumor','Healthy'])\n",
    "ax.yaxis.set_ticklabels(['Tumor','Healthy'])"
   ],
   "outputs": [],
   "execution_count": null
  },
  {
   "cell_type": "code",
   "id": "eaf5a859-a068-466d-911a-251b8b6b3048",
   "metadata": {},
   "source": [
    "plt.figure(figsize=(16,9))\n",
    "plt.plot(outputs)\n",
    "plt.axvline(x=len(tumor), color='r', linestyle='--')\n",
    "plt.grid()"
   ],
   "outputs": [],
   "execution_count": null
  },
  {
   "cell_type": "markdown",
   "id": "f6d94517-d59a-46a5-8742-81d928cd1b12",
   "metadata": {},
   "source": [
    "# Testing for Overfitting"
   ]
  },
  {
   "cell_type": "code",
   "id": "5ea5d9c4-726f-49a8-a4b4-e18971a73395",
   "metadata": {},
   "source": [
    "from sklearn.model_selection import train_test_split"
   ],
   "outputs": [],
   "execution_count": null
  },
  {
   "cell_type": "code",
   "id": "16413b2f-bde4-424e-bbda-580da13623e8",
   "metadata": {},
   "source": [
    "class MRI(Dataset):\n",
    "    \n",
    "    def __init__(self):\n",
    "        \n",
    "        # Variables to hold the Training data and Validation data\n",
    "        self.X_train, self.y_train, self.X_val, self.y_val = None, None, None, None\n",
    "        \n",
    "        # A variable to determine if we are interested in retrieving the training OR the validation data\n",
    "        self.mode = 'train'\n",
    "        \n",
    "        tumor = []\n",
    "        healthy = []\n",
    "        # cv2 - It reads in BGR format by default\n",
    "        for f in glob.iglob(\"./data/brain_tumor_dataset/yes/*.jpg\"):\n",
    "            img = cv2.imread(f)\n",
    "            img = cv2.resize(img,(128,128)) # I can add this later in the boot-camp for more adventure\n",
    "            b, g, r = cv2.split(img)\n",
    "            img = cv2.merge([r,g,b])\n",
    "            img = img.reshape((img.shape[2],img.shape[0],img.shape[1])) # otherwise the shape will be (h,w,#channels)\n",
    "            tumor.append(img)\n",
    "\n",
    "        for f in glob.iglob(\"./data/brain_tumor_dataset/no/*.jpg\"):\n",
    "            img = cv2.imread(f)\n",
    "            img = cv2.resize(img,(128,128)) \n",
    "            b, g, r = cv2.split(img)\n",
    "            img = cv2.merge([r,g,b])\n",
    "            img = img.reshape((img.shape[2],img.shape[0],img.shape[1]))\n",
    "            healthy.append(img)\n",
    "\n",
    "        #x`x`images\n",
    "        tumor = np.array(tumor,dtype=np.float32)\n",
    "        healthy = np.array(healthy,dtype=np.float32)\n",
    "        \n",
    "        #labels\n",
    "        tumor_label = np.ones(tumor.shape[0], dtype=np.float32)\n",
    "        healthy_label = np.zeros(healthy.shape[0], dtype=np.float32)\n",
    "        \n",
    "        # Concatenates\n",
    "        self.images = np.concatenate((tumor, healthy), axis=0)\n",
    "        self.labels = np.concatenate((tumor_label, healthy_label))\n",
    "    \n",
    "    # Defining a function to separate the data into Training and Validation sets\n",
    "    def train_val_split(self):\n",
    "        self.X_train, self.X_val, self.y_train, self.y_val = \\\n",
    "        train_test_split(self.images, self.labels, test_size=0.20, random_state=42)\n",
    "        \n",
    "    def __len__(self):\n",
    "        # Use self.mode to deetrmine whether train or val data is of interest\n",
    "        if self.mode == 'train':\n",
    "            return self.X_train.shape[0]\n",
    "        elif self.mode == 'val':\n",
    "            return self.X_val.shape[0]\n",
    "    \n",
    "    def __getitem__(self, idx):\n",
    "        # Use self.mode to deetrmine whether train or val data is of interest\n",
    "        if self.mode== 'train':\n",
    "            sample = {'image': self.X_train[idx], 'label': self.y_train[idx]}\n",
    "        \n",
    "        elif self.mode== 'val':\n",
    "            sample = {'image': self.X_val[idx], 'label': self.y_val[idx]}\n",
    "        \n",
    "        return sample\n",
    "    \n",
    "    def normalize(self):\n",
    "        self.images = self.images/255.0"
   ],
   "outputs": [],
   "execution_count": null
  },
  {
   "cell_type": "code",
   "id": "ca106c67-0f47-4641-9caf-3ed919da3e4e",
   "metadata": {},
   "source": [
    "mri_dataset = MRI()\n",
    "mri_dataset.normalize()\n",
    "mri_dataset.train_val_split()"
   ],
   "outputs": [],
   "execution_count": null
  },
  {
   "cell_type": "code",
   "id": "f2d67a81-3dd9-4b05-baa7-8767b1f636b9",
   "metadata": {},
   "source": [
    "train_dataloader = DataLoader(mri_dataset, batch_size=32, shuffle=True)\n",
    "val_dataloader = DataLoader(mri_dataset, batch_size=32, shuffle=False)"
   ],
   "outputs": [],
   "execution_count": null
  },
  {
   "cell_type": "code",
   "id": "a3951b09-b58e-4f33-862a-5599346ea8d1",
   "metadata": {},
   "source": [
    "device = torch.device(\"cuda:0\")\n",
    "model = CNN().to(device)"
   ],
   "outputs": [],
   "execution_count": null
  },
  {
   "cell_type": "code",
   "id": "f1a6ee3f-a08a-4932-8194-6bb688dd8a52",
   "metadata": {},
   "source": [
    "eta=0.0001\n",
    "optimizer = torch.optim.Adam(model.parameters(), lr=eta)"
   ],
   "outputs": [],
   "execution_count": null
  },
  {
   "cell_type": "code",
   "id": "9a02206f-9476-4961-aba3-7eaa09316599",
   "metadata": {},
   "source": [
    "# keeping track of epoch losses\n",
    "epoch_train_loss = []\n",
    "epoch_val_loss = []"
   ],
   "outputs": [],
   "execution_count": null
  },
  {
   "cell_type": "code",
   "id": "20e6dae8-2666-4d0f-bb11-b6b1e18496eb",
   "metadata": {},
   "source": [
    "for epoch in range(1,600):\n",
    "    train_losses = []\n",
    "    # train for the current epoch\n",
    "    model.train()\n",
    "    mri_dataset.mode = 'train'\n",
    "    for D in train_dataloader:\n",
    "        # Train the model\n",
    "        optimizer.zero_grad()\n",
    "        data = D['image'].to(device)\n",
    "        label = D['label'].to(device)\n",
    "        \n",
    "        y_hat = model(data)\n",
    "        error = nn.BCELoss()\n",
    "        loss = torch.sum(error(y_hat.squeeze(), label))\n",
    "        loss.backward()\n",
    "        optimizer.step()\n",
    "        train_losses.append(loss.item())\n",
    "    \n",
    "    epoch_train_loss.append(np.mean(train_losses))\n",
    "    \n",
    "    # validate for the current epoch\n",
    "    val_losses = []\n",
    "    model.eval()\n",
    "    \n",
    "    mri_dataset.mode = 'val'\n",
    "    \n",
    "    with torch.no_grad():\n",
    "        for D in val_dataloader:            \n",
    "            data = D['image'].to(device)\n",
    "            label = D['label'].to(device)\n",
    "            y_hat = model(data)\n",
    "            error = nn.BCELoss()\n",
    "            loss = torch.sum(error(y_hat.squeeze(), label))\n",
    "            val_losses.append(loss.item())\n",
    "    \n",
    "    epoch_val_loss.append(np.mean(val_losses))\n",
    "    \n",
    "    if (epoch+1) % 10 == 0:\n",
    "        print('Train Epoch: {}\\tTrain Loss: {:.6f}\\tVal Loss: {:.6f}'.format(epoch+1, np.mean(train_losses),np.mean(val_losses)))\n"
   ],
   "outputs": [],
   "execution_count": null
  },
  {
   "cell_type": "code",
   "id": "e13b6386-4375-4260-8c5b-f8a318cf102f",
   "metadata": {},
   "source": [
    "plt.figure(figsize=(16,9))\n",
    "plt.plot(epoch_train_loss, c='b', label='Train loss')\n",
    "plt.plot(epoch_val_loss, c='r', label = 'Validation loss')\n",
    "plt.legend()\n",
    "plt.grid()\n",
    "plt.xlabel('Epochs', fontsize=20)\n",
    "plt.ylabel('Loss', fontsize=20)"
   ],
   "outputs": [],
   "execution_count": null
  },
  {
   "cell_type": "code",
   "id": "9d30b7d8-0010-4ef0-89cd-4f817c49eb67",
   "metadata": {},
   "source": [],
   "outputs": [],
   "execution_count": null
  }
 ],
 "metadata": {
  "kernelspec": {
   "display_name": "Python 3 (ipykernel)",
   "language": "python",
   "name": "python3"
  },
  "language_info": {
   "codemirror_mode": {
    "name": "ipython",
    "version": 3
   },
   "file_extension": ".py",
   "mimetype": "text/x-python",
   "name": "python",
   "nbconvert_exporter": "python",
   "pygments_lexer": "ipython3",
   "version": "3.10.14"
  }
 },
 "nbformat": 4,
 "nbformat_minor": 5
}
